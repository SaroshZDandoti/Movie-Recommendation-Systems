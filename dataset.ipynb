{
 "cells": [
  {
   "cell_type": "code",
   "execution_count": 21,
   "metadata": {},
   "outputs": [],
   "source": [
    "from faker import Faker\n",
    "\n",
    "fake = Faker()"
   ]
  },
  {
   "cell_type": "code",
   "execution_count": 22,
   "metadata": {},
   "outputs": [
    {
     "name": "stdout",
     "output_type": "stream",
     "text": [
      "Expect Garden And\n"
     ]
    }
   ],
   "source": [
    "def capitalize(str):\n",
    "    return str.capitalize()\n",
    "words = fake.words()\n",
    "capitalized_words = list(map(capitalize, words))\n",
    "movie_name = ' '.join(capitalized_words)\n",
    "print(movie_name) # Serve Fear Consider"
   ]
  },
  {
   "cell_type": "code",
   "execution_count": 23,
   "metadata": {},
   "outputs": [
    {
     "name": "stdout",
     "output_type": "stream",
     "text": [
      "June 20, 2021\n"
     ]
    }
   ],
   "source": [
    "from datetime import datetime\n",
    "\n",
    "date = datetime.strftime(fake.date_time_this_decade(), \"%B %d, %Y\")\n",
    "print(date) # April 30, 2020"
   ]
  },
  {
   "cell_type": "code",
   "execution_count": null,
   "metadata": {},
   "outputs": [],
   "source": [
    "from faker import Faker\n",
    "from faker.providers import BaseProvider\n",
    "import random\n",
    "import csv\n",
    "\n",
    "class GenereProvider(BaseProvider):\n",
    "    def movie_genre(self):\n",
    "        return random.choices( ['Documentary', 'Thriller', 'Mystery', 'Horror', 'Action', 'Comedy', 'Drama', 'Romance'] ,k = random.randint(1,6)  )\n",
    "\n",
    "class LanguageProvider(BaseProvider):\n",
    "    def language(self):\n",
    "        return random.choice(['English', 'Chinese', 'Italian', 'Spanish', 'Hindi', 'Japanese'])\n",
    "\n",
    "\n",
    "fake = Faker()\n",
    "\n",
    "fake.add_provider(GenereProvider)\n",
    "fake.add_provider(LanguageProvider)\n"
   ]
  },
  {
   "cell_type": "code",
   "execution_count": 20,
   "metadata": {},
   "outputs": [],
   "source": [
    "\n",
    "\n",
    "# Some of this is a bit verbose now, but doing so for the sake of completion\n",
    "\n",
    "def get_movie_name():\n",
    "    words = fake.words()\n",
    "    capitalized_words = list(map(capitalize, words))\n",
    "    return ' '.join(capitalized_words)\n",
    "\n",
    "def get_movie_date():\n",
    "    return datetime.strftime(fake.date_time_this_decade(), \"%B %d, %Y\")\n",
    "\n",
    "def get_movie_len():\n",
    "    return random.randrange(50, 150)\n",
    "\n",
    "def get_movie_rating():\n",
    "    return round(random.uniform(1.0, 5.0), 1)\n",
    "\n",
    "def generate_movie():\n",
    "    return [get_movie_name(), fake.movie_genre(), get_movie_date(), get_movie_len(), get_movie_rating(), fake.language()]\n",
    "\n",
    "with open('movie_data.csv', 'w') as csvfile:\n",
    "    writer = csv.writer(csvfile)\n",
    "    writer.writerow(['Title', 'Genre', 'Premiere', 'Runtime', 'IMDB Score', 'Language'] )\n",
    "    for n in range(1, 100):\n",
    "        writer.writerow(generate_movie())"
   ]
  },
  {
   "cell_type": "code",
   "execution_count": 10,
   "metadata": {},
   "outputs": [
    {
     "name": "stdout",
     "output_type": "stream",
     "text": [
      "[[0.09 0.06 0.57 0.28]]\n",
      "1.0\n"
     ]
    }
   ],
   "source": [
    "import numpy as np, numpy.random\n",
    "x = np.random.dirichlet(np.ones(4),size=1)\n",
    "x = np.round( x , decimals = 2)\n",
    "print(x)\n",
    "\n",
    "print(np.sum(x))\n"
   ]
  }
 ],
 "metadata": {
  "interpreter": {
   "hash": "b3ba2566441a7c06988d0923437866b63cedc61552a5af99d1f4fb67d367b25f"
  },
  "kernelspec": {
   "display_name": "Python 3.8.8 64-bit ('base': conda)",
   "language": "python",
   "name": "python3"
  },
  "language_info": {
   "codemirror_mode": {
    "name": "ipython",
    "version": 3
   },
   "file_extension": ".py",
   "mimetype": "text/x-python",
   "name": "python",
   "nbconvert_exporter": "python",
   "pygments_lexer": "ipython3",
   "version": "3.8.8"
  },
  "orig_nbformat": 4
 },
 "nbformat": 4,
 "nbformat_minor": 2
}
